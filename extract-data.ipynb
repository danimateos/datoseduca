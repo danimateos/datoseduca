{
 "cells": [
  {
   "cell_type": "code",
   "execution_count": 1,
   "metadata": {
    "collapsed": true
   },
   "outputs": [],
   "source": [
    "import pandas as pd\n",
    "import matplotlib.pyplot as plt\n",
    "import seaborn as sns\n",
    "import urllib\n",
    "import os\n",
    "import json\n",
    "\n",
    "%matplotlib inline"
   ]
  },
  {
   "cell_type": "code",
   "execution_count": 2,
   "metadata": {
    "collapsed": false
   },
   "outputs": [],
   "source": [
    "## A dict with sources:\n",
    "with open('sources.json') as data_file:    \n",
    "    sources = json.load(data_file)"
   ]
  },
  {
   "cell_type": "code",
   "execution_count": 11,
   "metadata": {
    "collapsed": false
   },
   "outputs": [],
   "source": [
    "def get_series_from_mecd(url, args):\n",
    "\n",
    "    # Here I'm truncating the documentID in mecd.gob.es; hope\n",
    "    # it doesn't bite me.\n",
    "    temp_file = \"data/%s.xlsx\" % url[-12:]\n",
    "  \n",
    "    # Don't download if we already have the file\n",
    "    if not os.path.isfile(temp_file):\n",
    "        urllib.urlretrieve(url, temp_file)\n",
    "        \n",
    "        \n",
    "    # Squeeze to get a Series if only one column\n",
    "    series = pd.read_excel(temp_file, squeeze=True, **args)    \n",
    "    \n",
    "    # A lot of random extra spaces in index columns\n",
    "    series.index = series.index.str.strip()\n",
    "    \n",
    "    return series"
   ]
  },
  {
   "cell_type": "code",
   "execution_count": 12,
   "metadata": {
    "collapsed": false
   },
   "outputs": [
    {
     "data": {
      "text/html": [
       "<div>\n",
       "<table border=\"1\" class=\"dataframe\">\n",
       "  <thead>\n",
       "    <tr style=\"text-align: right;\">\n",
       "      <th></th>\n",
       "      <th>math_level_1</th>\n",
       "      <th>math_level_5</th>\n",
       "      <th>math_level_6</th>\n",
       "      <th>math_score</th>\n",
       "      <th>math_under_1</th>\n",
       "      <th>reading_level_1</th>\n",
       "      <th>reading_level_5</th>\n",
       "      <th>reading_level_6</th>\n",
       "      <th>reading_score</th>\n",
       "      <th>reading_under_1</th>\n",
       "      <th>science_level_1</th>\n",
       "      <th>science_level_5</th>\n",
       "      <th>science_level_6</th>\n",
       "      <th>science_score</th>\n",
       "      <th>science_under_1</th>\n",
       "    </tr>\n",
       "  </thead>\n",
       "  <tbody>\n",
       "    <tr>\n",
       "      <th>Alemania</th>\n",
       "      <td>12.193542</td>\n",
       "      <td>12.773757</td>\n",
       "      <td>4.681767</td>\n",
       "      <td>513.525056</td>\n",
       "      <td>5.545130</td>\n",
       "      <td>3.266599</td>\n",
       "      <td>24.577259</td>\n",
       "      <td>8.260698</td>\n",
       "      <td>507.676530</td>\n",
       "      <td>0.521725</td>\n",
       "      <td>9.312185</td>\n",
       "      <td>10.574336</td>\n",
       "      <td>1.590635</td>\n",
       "      <td>524.120799</td>\n",
       "      <td>2.902123</td>\n",
       "    </tr>\n",
       "    <tr>\n",
       "      <th>Andalucía</th>\n",
       "      <td>18.915585</td>\n",
       "      <td>4.732912</td>\n",
       "      <td>1.013611</td>\n",
       "      <td>472.019591</td>\n",
       "      <td>8.478546</td>\n",
       "      <td>5.178162</td>\n",
       "      <td>16.154161</td>\n",
       "      <td>3.984725</td>\n",
       "      <td>476.812111</td>\n",
       "      <td>1.643554</td>\n",
       "      <td>14.102856</td>\n",
       "      <td>4.116931</td>\n",
       "      <td>0.300497</td>\n",
       "      <td>486.034650</td>\n",
       "      <td>4.516763</td>\n",
       "    </tr>\n",
       "    <tr>\n",
       "      <th>Aragón</th>\n",
       "      <td>13.386463</td>\n",
       "      <td>9.498153</td>\n",
       "      <td>1.957469</td>\n",
       "      <td>496.266194</td>\n",
       "      <td>7.881926</td>\n",
       "      <td>4.429627</td>\n",
       "      <td>19.945232</td>\n",
       "      <td>5.932133</td>\n",
       "      <td>493.141800</td>\n",
       "      <td>1.096787</td>\n",
       "      <td>11.864777</td>\n",
       "      <td>6.762451</td>\n",
       "      <td>0.842837</td>\n",
       "      <td>504.111080</td>\n",
       "      <td>3.938644</td>\n",
       "    </tr>\n",
       "    <tr>\n",
       "      <th>Asturias</th>\n",
       "      <td>11.890078</td>\n",
       "      <td>10.387162</td>\n",
       "      <td>2.444741</td>\n",
       "      <td>499.601625</td>\n",
       "      <td>6.777473</td>\n",
       "      <td>3.674848</td>\n",
       "      <td>23.231226</td>\n",
       "      <td>7.373033</td>\n",
       "      <td>504.016976</td>\n",
       "      <td>1.305270</td>\n",
       "      <td>8.927664</td>\n",
       "      <td>8.123267</td>\n",
       "      <td>1.236010</td>\n",
       "      <td>516.861585</td>\n",
       "      <td>2.731494</td>\n",
       "    </tr>\n",
       "    <tr>\n",
       "      <th>Australia</th>\n",
       "      <td>13.534663</td>\n",
       "      <td>10.515042</td>\n",
       "      <td>4.294680</td>\n",
       "      <td>504.150766</td>\n",
       "      <td>6.132482</td>\n",
       "      <td>3.106353</td>\n",
       "      <td>23.336504</td>\n",
       "      <td>9.798264</td>\n",
       "      <td>511.803998</td>\n",
       "      <td>0.900302</td>\n",
       "      <td>10.214973</td>\n",
       "      <td>10.912487</td>\n",
       "      <td>2.644107</td>\n",
       "      <td>521.494746</td>\n",
       "      <td>3.430821</td>\n",
       "    </tr>\n",
       "  </tbody>\n",
       "</table>\n",
       "</div>"
      ],
      "text/plain": [
       "           math_level_1  math_level_5  math_level_6  math_score  math_under_1  \\\n",
       "Alemania      12.193542     12.773757      4.681767  513.525056      5.545130   \n",
       "Andalucía     18.915585      4.732912      1.013611  472.019591      8.478546   \n",
       "Aragón        13.386463      9.498153      1.957469  496.266194      7.881926   \n",
       "Asturias      11.890078     10.387162      2.444741  499.601625      6.777473   \n",
       "Australia     13.534663     10.515042      4.294680  504.150766      6.132482   \n",
       "\n",
       "           reading_level_1  reading_level_5  reading_level_6  reading_score  \\\n",
       "Alemania          3.266599        24.577259         8.260698     507.676530   \n",
       "Andalucía         5.178162        16.154161         3.984725     476.812111   \n",
       "Aragón            4.429627        19.945232         5.932133     493.141800   \n",
       "Asturias          3.674848        23.231226         7.373033     504.016976   \n",
       "Australia         3.106353        23.336504         9.798264     511.803998   \n",
       "\n",
       "           reading_under_1  science_level_1  science_level_5  science_level_6  \\\n",
       "Alemania          0.521725         9.312185        10.574336         1.590635   \n",
       "Andalucía         1.643554        14.102856         4.116931         0.300497   \n",
       "Aragón            1.096787        11.864777         6.762451         0.842837   \n",
       "Asturias          1.305270         8.927664         8.123267         1.236010   \n",
       "Australia         0.900302        10.214973        10.912487         2.644107   \n",
       "\n",
       "           science_score  science_under_1  \n",
       "Alemania      524.120799         2.902123  \n",
       "Andalucía     486.034650         4.516763  \n",
       "Aragón        504.111080         3.938644  \n",
       "Asturias      516.861585         2.731494  \n",
       "Australia     521.494746         3.430821  "
      ]
     },
     "execution_count": 12,
     "metadata": {},
     "output_type": "execute_result"
    }
   ],
   "source": [
    "series = {}\n",
    "\n",
    "for name, values in sources.iteritems():\n",
    "    url = values[0]\n",
    "    args = values[1]\n",
    "        \n",
    "    series[name] = get_series_from_mecd(*values)\n",
    "    \n",
    "pd.DataFrame(series).head()"
   ]
  },
  {
   "cell_type": "code",
   "execution_count": 40,
   "metadata": {
    "collapsed": false
   },
   "outputs": [],
   "source": [
    "othersources = {\n",
    "    \"repeaters_countries\" : [\"http://dx.doi.org/10.1787/888932957403\",\n",
    "           {\"sheetname\": \"Data_Figure IV.1.4_1\",\n",
    "            \"index_col\" : 0,\n",
    "            \"skiprows\" : 8,\n",
    "            \"parse_cols\" : \"A,E\",\n",
    "            \"skip_footer\" : 68,\n",
    "            \"comments\" : \"Filas: 9 (encabezados) y países: 10 a 43. Columnas: A, E*100\"\n",
    "           }],\n",
    "    \"repeaters_regions\" : [\"http://dx.doi.org/10.1787/888932957536\",\n",
    "           {\"sheetname\": \"Table B2.IV.1\",\n",
    "            \"index_col\" : 0,\n",
    "            \"skiprows\" : 93,\n",
    "            \"parse_cols\" : \"A,T\",\n",
    "            \"skip_footer\" : 58,\n",
    "            \"comments\" : \"Filas: 9 (encabezados) y países: 10 a 43. Columnas: A, E*100\"\n",
    "           }]    \n",
    "    \n",
    "    \n",
    "}"
   ]
  },
  {
   "cell_type": "code",
   "execution_count": 43,
   "metadata": {
    "collapsed": false
   },
   "outputs": [
    {
     "data": {
      "text/plain": [
       "Spain\n",
       "Andalusia*           36.738454\n",
       "Aragon*              36.098311\n",
       "Asturias*            27.438242\n",
       "Balearic Islands*    39.145251\n",
       "Basque Country*      20.761495\n",
       "Cantabria*           32.284908\n",
       "Castile and Leon*    34.515604\n",
       "Catalonia*           20.599708\n",
       "Extremadura*         42.863706\n",
       "Galicia*             32.955194\n",
       "La Rioja*            33.988697\n",
       "Madrid*              32.397438\n",
       "Murcia*              42.544068\n",
       "Navarre*             25.288858\n",
       "Name: Unnamed: 1, dtype: float64"
      ]
     },
     "execution_count": 43,
     "metadata": {},
     "output_type": "execute_result"
    }
   ],
   "source": [
    "x = get_series_from_mecd(*othersources['repeaters_regions'])    \n",
    "x"
   ]
  }
 ],
 "metadata": {
  "kernelspec": {
   "display_name": "Python 2",
   "language": "python",
   "name": "python2"
  },
  "language_info": {
   "codemirror_mode": {
    "name": "ipython",
    "version": 2
   },
   "file_extension": ".py",
   "mimetype": "text/x-python",
   "name": "python",
   "nbconvert_exporter": "python",
   "pygments_lexer": "ipython2",
   "version": "2.7.10"
  }
 },
 "nbformat": 4,
 "nbformat_minor": 1
}
