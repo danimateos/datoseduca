{
 "cells": [
  {
   "cell_type": "code",
   "execution_count": 5,
   "metadata": {
    "collapsed": true
   },
   "outputs": [],
   "source": [
    "import pandas as pd\n",
    "import matplotlib.pyplot as plt\n",
    "import seaborn as sns\n",
    "import urllib\n",
    "import os\n",
    "%matplotlib inline"
   ]
  },
  {
   "cell_type": "code",
   "execution_count": 6,
   "metadata": {
    "collapsed": false
   },
   "outputs": [],
   "source": [
    "## A dict with sources:\n",
    "\n",
    "sources = {\n",
    "    \"math_score\" : [\"http://www.mecd.gob.es/dctm/inee/internacional/pisa2012/pisa2012-cap2-vol1.xlsx?documentId=0901e72b8188af93\",\n",
    "                    {\"sheetname\": \"2.1\",\n",
    "                     \"index_col\" : 0,\n",
    "                     \"skiprows\" : 4,\n",
    "                     \"parse_cols\" : \"B,C\",\n",
    "                     \"comments\" : \"Filas 4 y 6-55  Columnas B y C\"}\n",
    "                   ],\n",
    "    \"reading_score\" : [\"http://www.mecd.gob.es/dctm/inee/internacional/pisa2012/pisa2012-cap2-vol1.xlsx?documentId=0901e72b8188af93\",\n",
    "                      {\"sheetname\": \"2.8\",\n",
    "                       \"index_col\" : 0,\n",
    "                       \"skiprows\" : 4,\n",
    "                       \"parse_cols\" : \"B,C\",\n",
    "                       \"comments\" : \"Filas 4 y 6-55  Columnas B y C\"}\n",
    "                      ],\n",
    "    \"science_score\" : [\"http://www.mecd.gob.es/dctm/inee/internacional/pisa2012/pisa2012-cap2-vol1.xlsx?documentId=0901e72b8188af93\",\n",
    "                       {\"sheetname\": \"2.11\",\n",
    "                        \"index_col\" : 0,\n",
    "                        \"skiprows\" : 4,\n",
    "                        \"parse_cols\" : \"B,C\",\n",
    "                        \"comments\" : \"Filas 4 y 6-55  Columnas B y C\"}\n",
    "                      ]\n",
    "    \n",
    "}\n",
    "\n"
   ]
  },
  {
   "cell_type": "code",
   "execution_count": 7,
   "metadata": {
    "collapsed": false
   },
   "outputs": [],
   "source": [
    "def get_series(url, args):\n",
    "\n",
    "    temp_file = \"data/%s.xlsx\" % url[-16:]\n",
    "  \n",
    "    # Don't download if we already have the file\n",
    "    if not os.path.isfile(temp_file):\n",
    "        urllib.urlretrieve(url, temp_file)\n",
    "        \n",
    "        \n",
    "    # Squeeze to get a Series if only one column\n",
    "    series = pd.read_excel(temp_file, squeeze=True, **args)    \n",
    "    \n",
    "    # A lot of random extra spaces in index columns\n",
    "    series.index = series.index.str.strip()\n",
    "    \n",
    "    return series"
   ]
  },
  {
   "cell_type": "code",
   "execution_count": 8,
   "metadata": {
    "collapsed": false
   },
   "outputs": [
    {
     "data": {
      "text/html": [
       "<div>\n",
       "<table border=\"1\" class=\"dataframe\">\n",
       "  <thead>\n",
       "    <tr style=\"text-align: right;\">\n",
       "      <th></th>\n",
       "      <th>math_score</th>\n",
       "      <th>reading_score</th>\n",
       "      <th>science_score</th>\n",
       "    </tr>\n",
       "  </thead>\n",
       "  <tbody>\n",
       "    <tr>\n",
       "      <th>Alemania</th>\n",
       "      <td>513.525056</td>\n",
       "      <td>507.676530</td>\n",
       "      <td>524.120799</td>\n",
       "    </tr>\n",
       "    <tr>\n",
       "      <th>Andalucía</th>\n",
       "      <td>472.019591</td>\n",
       "      <td>476.812111</td>\n",
       "      <td>486.034650</td>\n",
       "    </tr>\n",
       "    <tr>\n",
       "      <th>Aragón</th>\n",
       "      <td>496.266194</td>\n",
       "      <td>493.141800</td>\n",
       "      <td>504.111080</td>\n",
       "    </tr>\n",
       "    <tr>\n",
       "      <th>Asturias</th>\n",
       "      <td>499.601625</td>\n",
       "      <td>504.016976</td>\n",
       "      <td>516.861585</td>\n",
       "    </tr>\n",
       "    <tr>\n",
       "      <th>Australia</th>\n",
       "      <td>504.150766</td>\n",
       "      <td>511.803998</td>\n",
       "      <td>521.494746</td>\n",
       "    </tr>\n",
       "  </tbody>\n",
       "</table>\n",
       "</div>"
      ],
      "text/plain": [
       "           math_score  reading_score  science_score\n",
       "Alemania   513.525056     507.676530     524.120799\n",
       "Andalucía  472.019591     476.812111     486.034650\n",
       "Aragón     496.266194     493.141800     504.111080\n",
       "Asturias   499.601625     504.016976     516.861585\n",
       "Australia  504.150766     511.803998     521.494746"
      ]
     },
     "execution_count": 8,
     "metadata": {},
     "output_type": "execute_result"
    }
   ],
   "source": [
    "series = {}\n",
    "\n",
    "for name, values in sources.iteritems():\n",
    "    url = values[0]\n",
    "    args = values[1]\n",
    "        \n",
    "    series[name] = get_series(*values)\n",
    "    \n",
    "pd.DataFrame(series).head()"
   ]
  },
  {
   "cell_type": "code",
   "execution_count": null,
   "metadata": {
    "collapsed": true
   },
   "outputs": [],
   "source": []
  }
 ],
 "metadata": {
  "kernelspec": {
   "display_name": "Python 2",
   "language": "python",
   "name": "python2"
  },
  "language_info": {
   "codemirror_mode": {
    "name": "ipython",
    "version": 2
   },
   "file_extension": ".py",
   "mimetype": "text/x-python",
   "name": "python",
   "nbconvert_exporter": "python",
   "pygments_lexer": "ipython2",
   "version": "2.7.10"
  }
 },
 "nbformat": 4,
 "nbformat_minor": 1
}
